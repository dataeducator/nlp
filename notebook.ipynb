{
  "nbformat": 4,
  "nbformat_minor": 0,
  "metadata": {
    "colab": {
      "provenance": [],
      "authorship_tag": "ABX9TyPBUzD4jCc5/oKrViXBzXBm",
      "include_colab_link": true
    },
    "kernelspec": {
      "name": "python3",
      "display_name": "Python 3"
    },
    "language_info": {
      "name": "python"
    }
  },
  "cells": [
    {
      "cell_type": "markdown",
      "metadata": {
        "id": "view-in-github",
        "colab_type": "text"
      },
      "source": [
        "<a href=\"https://colab.research.google.com/github/dataeducator/nlp/blob/main/notebook.ipynb\" target=\"_parent\"><img src=\"https://colab.research.google.com/assets/colab-badge.svg\" alt=\"Open In Colab\"/></a>"
      ]
    },
    {
      "cell_type": "code",
      "execution_count": null,
      "metadata": {
        "id": "hmYSZjhnIp2w"
      },
      "outputs": [],
      "source": []
    },
    {
      "cell_type": "markdown",
      "source": [
        "# Title: Natural Language Processing"
      ],
      "metadata": {
        "id": "EVk_5xY6B0ft"
      }
    },
    {
      "cell_type": "markdown",
      "source": [
        "# Business Understanding"
      ],
      "metadata": {
        "id": "-jCrv5l-wSGp"
      }
    },
    {
      "cell_type": "code",
      "source": [],
      "metadata": {
        "id": "wU3i3HxXwWef"
      },
      "execution_count": null,
      "outputs": []
    },
    {
      "cell_type": "markdown",
      "source": [
        "# Data Understanding"
      ],
      "metadata": {
        "id": "YUWPZxQHwW6N"
      }
    },
    {
      "cell_type": "code",
      "source": [],
      "metadata": {
        "id": "dKrvKU7YwZWQ"
      },
      "execution_count": null,
      "outputs": []
    },
    {
      "cell_type": "markdown",
      "source": [
        "# Method"
      ],
      "metadata": {
        "id": "ppEUEyCGwbUC"
      }
    },
    {
      "cell_type": "code",
      "source": [],
      "metadata": {
        "id": "kGMOmFLDwcSX"
      },
      "execution_count": null,
      "outputs": []
    },
    {
      "cell_type": "markdown",
      "source": [],
      "metadata": {
        "id": "2e3T_RlwwdD3"
      }
    },
    {
      "cell_type": "markdown",
      "source": [
        "# Model"
      ],
      "metadata": {
        "id": "mJqK2se5wdvu"
      }
    },
    {
      "cell_type": "markdown",
      "source": [],
      "metadata": {
        "id": "brnk0Ap7we4Z"
      }
    },
    {
      "cell_type": "markdown",
      "source": [
        "# Evaluate"
      ],
      "metadata": {
        "id": "0ScIaRwVwfH4"
      }
    },
    {
      "cell_type": "markdown",
      "source": [
        "# Deployment"
      ],
      "metadata": {
        "id": "NPo64o-0wgW1"
      }
    },
    {
      "cell_type": "code",
      "source": [],
      "metadata": {
        "id": "tXmDGcASwh6G"
      },
      "execution_count": null,
      "outputs": []
    }
  ]
}